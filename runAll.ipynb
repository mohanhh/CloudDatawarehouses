{
 "cells": [
  {
   "cell_type": "code",
   "execution_count": 1,
   "metadata": {
    "editable": true
   },
   "outputs": [
    {
     "name": "stdout",
     "output_type": "stream",
     "text": [
      "Drop table if exists staging_events_table\n",
      "Drop table if exists staging_songs_table\n",
      "Drop table if exists songplays\n",
      "drop table if exists users cascade\n",
      "drop table if exists songs cascade\n",
      "drop table if exists artists cascade\n",
      "drop table if exists time\n",
      "\n",
      "    create table if not exists staging_events_table \n",
      "    (artist varchar(256), \n",
      "    auth varchar(256), \n",
      "    firstName varchar(256), \n",
      "    gender varchar(10), \n",
      "    itemInSession int, \n",
      "    lastName varchar(256), \n",
      "    length numeric(30, 3), \n",
      "    level varchar(64), \n",
      "    location varchar(100), \n",
      "    method varchar(10), \n",
      "    page varchar(32), \n",
      "    registration decimal(30, 3), \n",
      "    sessionId bigint, \n",
      "    song varchar(256), \n",
      "    status int, \n",
      "    ts bigint sortkey, \n",
      "    userAgent varchar(256), \n",
      "    userId bigint) diststyle auto\n",
      "\n",
      "create table if not exists staging_songs_table  \n",
      "    (num_songs int, \n",
      "    artist_id varchar(256), \n",
      "    artist_latitude double precision, \n",
      "    artist_longitude double precision, \n",
      "    artist_location varchar(256), \n",
      "    artist_name varchar(256), \n",
      "    song_id varchar(256), \n",
      "    title varchar(256), \n",
      "    duration numeric (30, 10), \n",
      "    year int) diststyle ALL\n",
      "\n",
      "create table if not exists users \n",
      "    (user_id bigint NOT NULL PRIMARY KEY distkey, \n",
      "    first_name varchar(256), \n",
      "    last_name varchar(256) sortkey, \n",
      "    gender varchar(8), \n",
      "    level varchar(64)) diststyle KEY\n",
      "create table if not exists artists \n",
      "    (artist_id varchar(256) NOT NULL PRIMARY KEY, \n",
      "    name varchar(256), \n",
      "    location varchar(256) sortkey, \n",
      "    latitude double precision, \n",
      "    longitude double precision) \n",
      "    diststyle ALL\n",
      "create table if not exists songs \n",
      "    (song_id varchar(256) NOT NULL PRIMARY KEY distkey, \n",
      "    title varchar(256), artist_id varchar(256) NOT NULL, \n",
      "    year int sortkey, \n",
      "    duration numeric(30, 10), \n",
      "    foreign key(artist_id) references artists(artist_id)) \n",
      "    diststyle KEY\n",
      "create table if not exists time \n",
      "    (start_time bigint PRIMARY KEY NOT NULL distkey sortkey, \n",
      "    hour int, \n",
      "    day int, \n",
      "    week int, \n",
      "    month int, \n",
      "    year int, \n",
      "    weekday int) diststyle KEY\n",
      "create table if not exists songplays \n",
      "    (songplay_id int IDENTITY(0,1) PRIMARY KEY distkey, \n",
      "    start_time bigint NOT NULL sortkey, \n",
      "    user_id bigint NOT NULL , \n",
      "    level VARCHAR(64), \n",
      "    song_id varchar(256) NOT NULL, \n",
      "    artist_id varchar(256) NOT NULL, \n",
      "    session_id VARCHAR(256), \n",
      "    location VARCHAR(256), \n",
      "    user_agent VARCHAR(256),\n",
      "    foreign key(user_id)  references users(user_id), \n",
      "    foreign key (song_id) references songs(song_id), \n",
      "    foreign key(artist_id) references artists(artist_id)) diststyle KEY\n"
     ]
    }
   ],
   "source": [
    "%run create_tables.py"
   ]
  },
  {
   "cell_type": "code",
   "execution_count": 2,
   "metadata": {
    "editable": true
   },
   "outputs": [
    {
     "name": "stdout",
     "output_type": "stream",
     "text": [
      "insert into songs \n",
      "    (song_id, title, artist_id, duration, year) \n",
      "    (select  distinct song_id, title, artist_id, duration, year from staging_songs_table);\n",
      "insert into artists (artist_id, name, location, latitude, longitude) (select  distinct artist_id, artist_name, artist_location, artist_latitude, artist_longitude from staging_songs_table);\n",
      "insert \n",
      "    into\n",
      "        songplays\n",
      "        (start_time, user_id, level, song_id, artist_id, session_id, location, user_agent) \n",
      "            (select\n",
      "                a1.ts,\n",
      "                a1.userId,\n",
      "                a1.level,\n",
      "                a2.song_id,\n",
      "                a2.artist_id,\n",
      "                a1.sessionId,\n",
      "                a1.location,\n",
      "                a1.useragent \n",
      "            from\n",
      "                staging_events_table a1 \n",
      "            join\n",
      "                staging_songs_table a2\n",
      "                    on a1.artist = a2.artist_name \n",
      "                    and a2.title = a1.song \n",
      "                    and a2.duration = a1.length \n",
      "                    and a1.page='NextSong'\n",
      "            );\n",
      "All done. All done\n"
     ]
    }
   ],
   "source": [
    "%run etl.py"
   ]
  },
  {
   "cell_type": "code",
   "execution_count": null,
   "metadata": {
    "editable": true
   },
   "outputs": [],
   "source": []
  }
 ],
 "metadata": {
  "kernelspec": {
   "display_name": "Python 3",
   "language": "python",
   "name": "python3"
  },
  "language_info": {
   "codemirror_mode": {
    "name": "ipython",
    "version": 3
   },
   "file_extension": ".py",
   "mimetype": "text/x-python",
   "name": "python",
   "nbconvert_exporter": "python",
   "pygments_lexer": "ipython3",
   "version": "3.6.3"
  }
 },
 "nbformat": 4,
 "nbformat_minor": 4
}
